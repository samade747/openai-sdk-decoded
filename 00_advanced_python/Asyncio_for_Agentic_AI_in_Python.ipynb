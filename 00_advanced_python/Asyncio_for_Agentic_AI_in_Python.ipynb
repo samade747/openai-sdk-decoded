{
  "cells": [
    {
      "cell_type": "markdown",
      "source": [
        "**# Asyncio for Agentic AI in Python**\n",
        "=====================================\n",
        "\n",
        "----\n",
        "**Asyncio is one way to achieve [concurrent programming in Python](https://www.geeksforgeeks.org/python-program-with-concurrency/).** You need async when you need massive scaling - tens of thousands of processes.\n",
        "\n",
        "----\n",
        "\n",
        "<font color=\"#a9a56c\" size=2> **@[Learn Core Asyncio Concepts and Python from Offical Panaversity Free Modern Python for Agent AI Notebooks](https://github.com/panaversity/learn-modern-ai-python/tree/main/00_python_colab/16_asyncio) Authored by Arif Kasim Rozani - (Team Operation Badar)** </font>\n",
        "\n",
        "[*Asynchronous Python for the Complete Beginner PyCon 2017*](https://www.youtube.com/watch?v=iG6fr81xHKA)"
      ],
      "metadata": {
        "id": "FTpZ9mhFhS7J"
      }
    },
    {
      "cell_type": "markdown",
      "source": [
        "## \"Processes vs. Threads vs. Async\"\n",
        "\n",
        "You can play in different ways: with **Processes**, **Threads**, or **Async**. Let’s think of these like different ways to have fun!\n",
        "\n",
        "1. **Optimize waiting (Can you take breaks smartly?)**\n",
        "   - All three—Processes, Threads, and Async—say \"Yes!\" It’s like if you’re waiting for your friend to bring a toy, you can play with another toy instead of just sitting there. They all know how to keep playing without wasting time.\n",
        "\n",
        "2. **Use all CPU cores (Can you use all your toy helpers?)**\n",
        "   - Processes say \"Yes!\" It’s like having lots of friends helping you play with toys at the same time, each using their own space.\n",
        "   - Threads and Async say \"No.\" They’re more like one friend who’s really fast but can only use one space at a time.\n",
        "\n",
        "3. **Scalability (How many toys can you play with?)**\n",
        "   - Processes can handle a few toys (ones or tens), like playing with 5 or 10 toys.\n",
        "   - Threads can handle more toys (hundreds), like 100 toys!\n",
        "   - Async is the best—it can handle thousands of toys or more! It’s like juggling lots and lots of toys without dropping any.\n",
        "\n",
        "4. **Use blocking std library functions (Do you have to wait for some toys?)**\n",
        "   - Processes and Threads say \"Yes.\" It’s like if you’re playing with a toy that takes a long time, you have to wait before grabbing the next one.\n",
        "   - Async says \"No!\" It’s like playing with a toy but still being able to grab other toys without waiting.\n",
        "\n",
        "5. **GIL interference (Does a big rule stop you?)**\n",
        "   - Processes say \"No.\" They don’t have any big rules stopping them.\n",
        "   - Threads say \"Some.\" They have a rule (called GIL) that sometimes slows them down, like if you can only play with one toy at a time even if you have two hands.\n",
        "   - Async says \"No.\" It doesn’t care about that rule and can keep playing freely.\n",
        "\n",
        "---\n",
        "\n",
        "### **Processes vs. Threads vs. Async**\n",
        "\n",
        "|                  | Processes      | Threads      | Async         |\n",
        "|------------------|----------------|--------------|---------------|\n",
        "| Optimize waiting | Yes (preemptive) | Yes (preemptive) | Yes (cooperative) |\n",
        "| Use all CPU cores | Yes            | No           | No            |\n",
        "| Scalability      | Low (ones/tens) | Medium (hundreds) | High (thousands+) |\n",
        "| Use blocking std library functions | Yes  | Yes          | No            |\n",
        "| GIL interference | No             | Some         | No            |\n",
        "\n",
        "---"
      ],
      "metadata": {
        "id": "ch0mdbatfqGT"
      }
    },
    {
      "cell_type": "markdown",
      "source": [
        "**[Asyncio](https://docs.python.org/3/library/asyncio.html) Key Concepts**\n",
        "----------------\n",
        "\n",
        "Asyncio is a library in Python that allows you to write single-threaded concurrent code using coroutines, multiplexing I/O access over sockets and other resources, and implementing network clients and servers.\n",
        "\n",
        "*   **`Coroutines`**: A coroutine is a special type of function that can suspend and resume its execution at specific points. Think of it as a task that can be paused and resumed.\n",
        "*   **`Event Loop`**: The event loop is the central component of Asyncio. It manages the execution of coroutines, handling I/O operations and scheduling tasks.\n",
        "*   **`Tasks`**: A task is a coroutine that's scheduled to run concurrently with other tasks.\n",
        "*   **`Futures`**: A future represents the result of a task. You can wait for a future to complete, allowing you to retrieve the result of a task.\n",
        "\n"
      ],
      "metadata": {
        "id": "47_DbueCiNLZ"
      }
    },
    {
      "cell_type": "markdown",
      "source": [
        "<font color=orange> By design asyncio does not allow its event loop to be nested. This presents a practical problem: When in an environment where the event loop is already running it’s impossible to run tasks and wait for the result. Trying to do so will give the error “RuntimeError: This event loop is already running”.\n",
        "\n",
        "<font color=orange>The issue pops up in various environments, such as web servers, GUI applications and in **`Jupyter notebooks`**. </font>\n",
        "\n",
        "This module patches asyncio to allow nested use of asyncio.run and loop.run_until_complete. </font>\n",
        "\n",
        "[nest-asyncio 1.6.0](https://pypi.org/project/nest-asyncio/)"
      ],
      "metadata": {
        "id": "1XD9whUOkb0U"
      }
    },
    {
      "cell_type": "code",
      "source": [
        "import nest_asyncio\n",
        "nest_asyncio.apply()\n",
        "\n",
        "print(\"\\033[94m Successfully enable Colab/Jupyter Notebook to handle nested event loop \\033[0m\")"
      ],
      "metadata": {
        "id": "TpI0BEBakLrc",
        "colab": {
          "base_uri": "https://localhost:8080/"
        },
        "outputId": "242471c8-72a5-4c12-d601-7de17014305e"
      },
      "execution_count": null,
      "outputs": [
        {
          "output_type": "stream",
          "name": "stdout",
          "text": [
            "\u001b[94m Successfully enable Colab/Jupyter Notebook to handle nested event loop \u001b[0m\n"
          ]
        }
      ]
    },
    {
      "cell_type": "markdown",
      "source": [
        "**Example: Making Coffee and Pastry**\n",
        "------------------------------------\n",
        "\n",
        "Let's create an example that demonstrates the synchronous and asynchronous approaches:\n",
        "\n",
        "<font color=gold>In this example just focus on out put to get the feel how **`synchronous`** and **`asynchronous`** function work.</font>"
      ],
      "metadata": {
        "id": "51-DXLp5lt6b"
      }
    },
    {
      "cell_type": "code",
      "source": [
        "import asyncio\n",
        "import time\n",
        "import threading\n",
        "from rich import print\n",
        "\n",
        "# Synchronous approach\n",
        "def make_coffee_sync():\n",
        "    print(f\"\\tMaking coffee... : Thread Name: {threading.current_thread().name}\")\n",
        "    time.sleep(2)  # Simulate coffee preparation time\n",
        "    print(\"\\tCoffee is ready!\")\n",
        "\n",
        "def make_pastry_sync():\n",
        "    print(f\"\\tMaking pastry... : Thread Name: {threading.current_thread().name}\")\n",
        "    time.sleep(3)  # Simulate pastry preparation time\n",
        "    print(\"\\tPastry is ready!\")\n",
        "\n",
        "def order_sync():\n",
        "    start_time = time.time()\n",
        "    make_coffee_sync()\n",
        "    make_pastry_sync()\n",
        "    end_time = time.time()\n",
        "    print(f\"Total time: {end_time - start_time} seconds\")\n",
        "\n",
        "# Asynchronous approach using Asyncio\n",
        "async def make_coffee_async():\n",
        "    print(f\"\\tMaking coffee... : Thread Name: {threading.current_thread().name}\")\n",
        "    await asyncio.sleep(2)  # Simulate coffee preparation time\n",
        "    print(\"\\tCoffee is ready!\")\n",
        "\n",
        "async def make_pastry_async():\n",
        "    print(f\"\\tMaking pastry... : Thread Name: {threading.current_thread().name}\")\n",
        "    await asyncio.sleep(3)  # Simulate pastry preparation time\n",
        "    print(\"\\tPastry is ready!\")\n",
        "\n",
        "async def order_async():\n",
        "    start_time = time.time()\n",
        "    tasks = [\n",
        "        asyncio.create_task(make_coffee_async()),\n",
        "        asyncio.create_task(make_pastry_async())\n",
        "    ]\n",
        "    await asyncio.gather(*tasks)\n",
        "    end_time = time.time()\n",
        "    print(f\"Total time: {end_time - start_time} seconds\")\n",
        "\n",
        "# Run the synchronous example\n",
        "print(\"[red]Synchronous approach: [/red]\")\n",
        "start_time = time.time()\n",
        "\n",
        "print(\"Main thread entring order_sync()\")\n",
        "order_sync()\n",
        "print(\"Main thread exiting order_sync()\")\n",
        "\n",
        "print( f\"[magenta]Total time: {time.time() - start_time} seconds[/magenta]\")\n",
        "\n",
        "# Run the asynchronous example\n",
        "print(\"\\n\\n[red]Asynchronous approach: [/red]\")\n",
        "\n",
        "start_time = time.time()\n",
        "\n",
        "\n",
        "\n",
        "print(\"Main thread entring order_async()\")\n",
        "asyncio.run(order_async())\n",
        "print(\"Main thread exiting order_async()\")\n",
        "\n",
        "print(f\"[magenta]Total time: {time.time() - start_time} seconds[/magenta]\")"
      ],
      "metadata": {
        "colab": {
          "base_uri": "https://localhost:8080/",
          "height": 328
        },
        "id": "9IHym404iPqf",
        "outputId": "b81283ff-66fc-4215-fe2e-b5d600ee1481"
      },
      "execution_count": null,
      "outputs": [
        {
          "output_type": "display_data",
          "data": {
            "text/plain": [
              "\u001b[31mSynchronous approach: \u001b[0m\n"
            ],
            "text/html": [
              "<pre style=\"white-space:pre;overflow-x:auto;line-height:normal;font-family:Menlo,'DejaVu Sans Mono',consolas,'Courier New',monospace\"><span style=\"color: #800000; text-decoration-color: #800000\">Synchronous approach: </span>\n",
              "</pre>\n"
            ]
          },
          "metadata": {}
        },
        {
          "output_type": "display_data",
          "data": {
            "text/plain": [
              "Main thread entring \u001b[1;35morder_sync\u001b[0m\u001b[1m(\u001b[0m\u001b[1m)\u001b[0m\n"
            ],
            "text/html": [
              "<pre style=\"white-space:pre;overflow-x:auto;line-height:normal;font-family:Menlo,'DejaVu Sans Mono',consolas,'Courier New',monospace\">Main thread entring <span style=\"color: #800080; text-decoration-color: #800080; font-weight: bold\">order_sync</span><span style=\"font-weight: bold\">()</span>\n",
              "</pre>\n"
            ]
          },
          "metadata": {}
        },
        {
          "output_type": "display_data",
          "data": {
            "text/plain": [
              "        Making coffee\u001b[33m...\u001b[0m : Thread Name: MainThread\n"
            ],
            "text/html": [
              "<pre style=\"white-space:pre;overflow-x:auto;line-height:normal;font-family:Menlo,'DejaVu Sans Mono',consolas,'Courier New',monospace\">        Making coffee<span style=\"color: #808000; text-decoration-color: #808000\">...</span> : Thread Name: MainThread\n",
              "</pre>\n"
            ]
          },
          "metadata": {}
        },
        {
          "output_type": "display_data",
          "data": {
            "text/plain": [
              "        Coffee is ready!\n"
            ],
            "text/html": [
              "<pre style=\"white-space:pre;overflow-x:auto;line-height:normal;font-family:Menlo,'DejaVu Sans Mono',consolas,'Courier New',monospace\">        Coffee is ready!\n",
              "</pre>\n"
            ]
          },
          "metadata": {}
        },
        {
          "output_type": "display_data",
          "data": {
            "text/plain": [
              "        Making pastry\u001b[33m...\u001b[0m : Thread Name: MainThread\n"
            ],
            "text/html": [
              "<pre style=\"white-space:pre;overflow-x:auto;line-height:normal;font-family:Menlo,'DejaVu Sans Mono',consolas,'Courier New',monospace\">        Making pastry<span style=\"color: #808000; text-decoration-color: #808000\">...</span> : Thread Name: MainThread\n",
              "</pre>\n"
            ]
          },
          "metadata": {}
        },
        {
          "output_type": "display_data",
          "data": {
            "text/plain": [
              "        Pastry is ready!\n"
            ],
            "text/html": [
              "<pre style=\"white-space:pre;overflow-x:auto;line-height:normal;font-family:Menlo,'DejaVu Sans Mono',consolas,'Courier New',monospace\">        Pastry is ready!\n",
              "</pre>\n"
            ]
          },
          "metadata": {}
        },
        {
          "output_type": "display_data",
          "data": {
            "text/plain": [
              "Total time: \u001b[1;36m5.007227659225464\u001b[0m seconds\n"
            ],
            "text/html": [
              "<pre style=\"white-space:pre;overflow-x:auto;line-height:normal;font-family:Menlo,'DejaVu Sans Mono',consolas,'Courier New',monospace\">Total time: <span style=\"color: #008080; text-decoration-color: #008080; font-weight: bold\">5.007227659225464</span> seconds\n",
              "</pre>\n"
            ]
          },
          "metadata": {}
        },
        {
          "output_type": "display_data",
          "data": {
            "text/plain": [
              "Main thread exiting \u001b[1;35morder_sync\u001b[0m\u001b[1m(\u001b[0m\u001b[1m)\u001b[0m\n"
            ],
            "text/html": [
              "<pre style=\"white-space:pre;overflow-x:auto;line-height:normal;font-family:Menlo,'DejaVu Sans Mono',consolas,'Courier New',monospace\">Main thread exiting <span style=\"color: #800080; text-decoration-color: #800080; font-weight: bold\">order_sync</span><span style=\"font-weight: bold\">()</span>\n",
              "</pre>\n"
            ]
          },
          "metadata": {}
        },
        {
          "output_type": "display_data",
          "data": {
            "text/plain": [
              "\u001b[35mTotal time: \u001b[0m\u001b[1;35m5.0126588344573975\u001b[0m\u001b[35m seconds\u001b[0m\n"
            ],
            "text/html": [
              "<pre style=\"white-space:pre;overflow-x:auto;line-height:normal;font-family:Menlo,'DejaVu Sans Mono',consolas,'Courier New',monospace\"><span style=\"color: #800080; text-decoration-color: #800080\">Total time: </span><span style=\"color: #800080; text-decoration-color: #800080; font-weight: bold\">5.0126588344573975</span><span style=\"color: #800080; text-decoration-color: #800080\"> seconds</span>\n",
              "</pre>\n"
            ]
          },
          "metadata": {}
        },
        {
          "output_type": "display_data",
          "data": {
            "text/plain": [
              "\n",
              "\n",
              "\u001b[31mAsynchronous approach: \u001b[0m\n"
            ],
            "text/html": [
              "<pre style=\"white-space:pre;overflow-x:auto;line-height:normal;font-family:Menlo,'DejaVu Sans Mono',consolas,'Courier New',monospace\">\n",
              "\n",
              "<span style=\"color: #800000; text-decoration-color: #800000\">Asynchronous approach: </span>\n",
              "</pre>\n"
            ]
          },
          "metadata": {}
        },
        {
          "output_type": "display_data",
          "data": {
            "text/plain": [
              "Main thread entring \u001b[1;35morder_async\u001b[0m\u001b[1m(\u001b[0m\u001b[1m)\u001b[0m\n"
            ],
            "text/html": [
              "<pre style=\"white-space:pre;overflow-x:auto;line-height:normal;font-family:Menlo,'DejaVu Sans Mono',consolas,'Courier New',monospace\">Main thread entring <span style=\"color: #800080; text-decoration-color: #800080; font-weight: bold\">order_async</span><span style=\"font-weight: bold\">()</span>\n",
              "</pre>\n"
            ]
          },
          "metadata": {}
        },
        {
          "output_type": "display_data",
          "data": {
            "text/plain": [
              "        Making coffee\u001b[33m...\u001b[0m : Thread Name: MainThread\n"
            ],
            "text/html": [
              "<pre style=\"white-space:pre;overflow-x:auto;line-height:normal;font-family:Menlo,'DejaVu Sans Mono',consolas,'Courier New',monospace\">        Making coffee<span style=\"color: #808000; text-decoration-color: #808000\">...</span> : Thread Name: MainThread\n",
              "</pre>\n"
            ]
          },
          "metadata": {}
        },
        {
          "output_type": "display_data",
          "data": {
            "text/plain": [
              "        Making pastry\u001b[33m...\u001b[0m : Thread Name: MainThread\n"
            ],
            "text/html": [
              "<pre style=\"white-space:pre;overflow-x:auto;line-height:normal;font-family:Menlo,'DejaVu Sans Mono',consolas,'Courier New',monospace\">        Making pastry<span style=\"color: #808000; text-decoration-color: #808000\">...</span> : Thread Name: MainThread\n",
              "</pre>\n"
            ]
          },
          "metadata": {}
        },
        {
          "output_type": "display_data",
          "data": {
            "text/plain": [
              "        Coffee is ready!\n"
            ],
            "text/html": [
              "<pre style=\"white-space:pre;overflow-x:auto;line-height:normal;font-family:Menlo,'DejaVu Sans Mono',consolas,'Courier New',monospace\">        Coffee is ready!\n",
              "</pre>\n"
            ]
          },
          "metadata": {}
        },
        {
          "output_type": "display_data",
          "data": {
            "text/plain": [
              "        Pastry is ready!\n"
            ],
            "text/html": [
              "<pre style=\"white-space:pre;overflow-x:auto;line-height:normal;font-family:Menlo,'DejaVu Sans Mono',consolas,'Courier New',monospace\">        Pastry is ready!\n",
              "</pre>\n"
            ]
          },
          "metadata": {}
        },
        {
          "output_type": "display_data",
          "data": {
            "text/plain": [
              "Total time: \u001b[1;36m3.0069997310638428\u001b[0m seconds\n"
            ],
            "text/html": [
              "<pre style=\"white-space:pre;overflow-x:auto;line-height:normal;font-family:Menlo,'DejaVu Sans Mono',consolas,'Courier New',monospace\">Total time: <span style=\"color: #008080; text-decoration-color: #008080; font-weight: bold\">3.0069997310638428</span> seconds\n",
              "</pre>\n"
            ]
          },
          "metadata": {}
        },
        {
          "output_type": "display_data",
          "data": {
            "text/plain": [
              "Main thread exiting \u001b[1;35morder_async\u001b[0m\u001b[1m(\u001b[0m\u001b[1m)\u001b[0m\n"
            ],
            "text/html": [
              "<pre style=\"white-space:pre;overflow-x:auto;line-height:normal;font-family:Menlo,'DejaVu Sans Mono',consolas,'Courier New',monospace\">Main thread exiting <span style=\"color: #800080; text-decoration-color: #800080; font-weight: bold\">order_async</span><span style=\"font-weight: bold\">()</span>\n",
              "</pre>\n"
            ]
          },
          "metadata": {}
        },
        {
          "output_type": "display_data",
          "data": {
            "text/plain": [
              "\u001b[35mTotal time: \u001b[0m\u001b[1;35m3.0122158527374268\u001b[0m\u001b[35m seconds\u001b[0m\n"
            ],
            "text/html": [
              "<pre style=\"white-space:pre;overflow-x:auto;line-height:normal;font-family:Menlo,'DejaVu Sans Mono',consolas,'Courier New',monospace\"><span style=\"color: #800080; text-decoration-color: #800080\">Total time: </span><span style=\"color: #800080; text-decoration-color: #800080; font-weight: bold\">3.0122158527374268</span><span style=\"color: #800080; text-decoration-color: #800080\"> seconds</span>\n",
              "</pre>\n"
            ]
          },
          "metadata": {}
        }
      ]
    },
    {
      "cell_type": "markdown",
      "source": [
        "In the synchronous example, the `make_coffee_sync` and `make_pastry_sync` functions are called sequentially, resulting in a total execution time of `5 seconds`.\n",
        "\n",
        "In the asynchronous example, the `make_coffee_async` and `make_pastry_async` coroutines are run concurrently using `asyncio.create_task` and `asyncio.gather`. This reduces the total execution time to approximately `3 seconds`, as the coffee and pastry are prepared simultaneously.\n",
        "\n",
        "**Best Practices**\n",
        "------------------\n",
        "\n",
        "*   **Use `asyncio.run()`**: Run your asynchronous code using `asyncio.run()` to ensure proper event loop setup and teardown.\n",
        "*   **Await Coroutines**: Use the `await` keyword to wait for the completion of coroutines.\n",
        "*   **Use `asyncio.gather()`**: Run multiple coroutines concurrently using `asyncio.gather()`.\n",
        "\n",
        "**Common Asyncio Functions**\n",
        "---------------------------\n",
        "\n",
        "*   `asyncio.sleep()`: Suspends the execution of the current coroutine for a specified amount of time.\n",
        "*   `asyncio.create_task()`: Creates a new task from a coroutine, allowing it to run concurrently.\n",
        "*   `asyncio.gather()`: Runs multiple coroutines concurrently and returns their results as a list.\n",
        "\n",
        "By following these guidelines and using Asyncio effectively, you can write efficient and responsive asynchronous code in Python."
      ],
      "metadata": {
        "id": "fldY9fqSjEcn"
      }
    },
    {
      "cell_type": "markdown",
      "source": [
        "## **Understanding `asyncio` and `await`**"
      ],
      "metadata": {
        "id": "mWPyjqS72VAH"
      }
    },
    {
      "cell_type": "markdown",
      "source": [
        "`asyncio` provides the event loop and tools to manage async operations, while `await` is the keyword that allows functions to yield control at specific points, enabling non-blocking waits. Using them together allows writing efficient `single-threaded concurrent code`, especially for I/O-bound tasks."
      ],
      "metadata": {
        "id": "qPgmuGXM2avW"
      }
    },
    {
      "cell_type": "markdown",
      "source": [
        "To address the question of understanding `asyncio` and `await` in Python, let's break down the concepts and their usage:\n",
        "\n",
        "### Understanding `asyncio` and `await`\n",
        "\n",
        "1. **`Asyncio`**:\n",
        "\n",
        "   - **`Definition`**: Asyncio is a Python library that facilitates writing single-threaded concurrent code using coroutines, multiplexing I/O access over sockets, and other resources. It's ideal for handling I/O-bound tasks, such as network requests or database queries.\n",
        "\n",
        "   - **`Key Components`**:\n",
        "     - **`Event Loop`**: Manages the scheduling and switching between tasks.\n",
        "\n",
        "     - **`Coroutines`**: Functions defined with `async def` that can suspend and resume execution.\n",
        "     - **`Tasks`**: Used to run coroutines concurrently.\n",
        "     - **`Futures`**: Represent the result of a task that may not have completed yet.(we will discuss `futures` later on)\n",
        "\n",
        "2. **`Await`**:\n",
        "\n",
        "   - **`Definition`**: `await` is a keyword used within async functions to suspend the execution of the coroutine until the awaited task is complete. It allows the event loop to handle other tasks while waiting.\n",
        "\n",
        "   - **`Usage`**: It is used to wait for coroutines, tasks, or futures, enabling non-blocking operations."
      ],
      "metadata": {
        "id": "of8SLcRK2nXQ"
      }
    },
    {
      "cell_type": "markdown",
      "source": [
        "### Difference Between `asyncio` and `await`\n",
        "\n",
        "- **`Asyncio`**: The library provides the framework for asynchronous operations, including the event loop and tools for creating and managing tasks.\n",
        "- **`Await`**: The keyword used within async functions to create points where execution can yield control back to the event loop, allowing other tasks to run.\n",
        "\n",
        "### Using Them Together\n",
        "\n",
        "1. **Basic Structure**:\n",
        "   - Define an async function using `async def`.\n",
        "   - Use `await` within the function to wait for coroutines.\n",
        "   - Run the top-level async function with `asyncio.run()`.\n",
        "   \n",
        "\n",
        "2. **Example**:"
      ],
      "metadata": {
        "id": "d7qKyoaM30iW"
      }
    },
    {
      "cell_type": "code",
      "source": [
        "import asyncio\n",
        "\n",
        "async def my_function():\n",
        "  await asyncio.sleep(4)\n",
        "  print(\"Hello! from my_function()\")\n",
        "\n",
        "async def main():\n",
        "  await my_function()\n",
        "\n",
        "asyncio.run(main())"
      ],
      "metadata": {
        "colab": {
          "base_uri": "https://localhost:8080/",
          "height": 33
        },
        "id": "z_MwFMtz4AOM",
        "outputId": "6f0f93e7-c2c5-47f2-fad0-2f1c8b646d81"
      },
      "execution_count": null,
      "outputs": [
        {
          "output_type": "display_data",
          "data": {
            "text/plain": [
              "Hello! from \u001b[1;35mmy_function\u001b[0m\u001b[1m(\u001b[0m\u001b[1m)\u001b[0m\n"
            ],
            "text/html": [
              "<pre style=\"white-space:pre;overflow-x:auto;line-height:normal;font-family:Menlo,'DejaVu Sans Mono',consolas,'Courier New',monospace\">Hello! from <span style=\"color: #800080; text-decoration-color: #800080; font-weight: bold\">my_function</span><span style=\"font-weight: bold\">()</span>\n",
              "</pre>\n"
            ]
          },
          "metadata": {}
        }
      ]
    },
    {
      "cell_type": "markdown",
      "source": [
        "\n",
        "## **Awaitable**\n",
        "\n",
        "This function checks if an object is `awaitable`, meaning it supports `await`."
      ],
      "metadata": {
        "id": "zCiLhrUmuTmb"
      }
    },
    {
      "cell_type": "code",
      "source": [
        "import inspect\n",
        "\n",
        "print(\"isawaitable = \", inspect.isawaitable(my_function()))"
      ],
      "metadata": {
        "colab": {
          "base_uri": "https://localhost:8080/",
          "height": 85
        },
        "id": "Vo7YhFc7uEAK",
        "outputId": "5d1e4c3e-ae04-4a5b-9132-0a7ace98e19e"
      },
      "execution_count": null,
      "outputs": [
        {
          "output_type": "stream",
          "name": "stderr",
          "text": [
            "<ipython-input-7-cc8b88d46875>:3: RuntimeWarning: coroutine 'my_function' was never awaited\n",
            "  print(\"isawaitable = \", inspect.isawaitable(my_function()))\n",
            "RuntimeWarning: Enable tracemalloc to get the object allocation traceback\n"
          ]
        },
        {
          "output_type": "display_data",
          "data": {
            "text/plain": [
              "isawaitable =  \u001b[3;92mTrue\u001b[0m\n"
            ],
            "text/html": [
              "<pre style=\"white-space:pre;overflow-x:auto;line-height:normal;font-family:Menlo,'DejaVu Sans Mono',consolas,'Courier New',monospace\">isawaitable =  <span style=\"color: #00ff00; text-decoration-color: #00ff00; font-style: italic\">True</span>\n",
              "</pre>\n"
            ]
          },
          "metadata": {}
        }
      ]
    },
    {
      "cell_type": "markdown",
      "source": [
        "## **Custom Awaitables (Implementing `__await__()`)**\n",
        "\n",
        "-   Any class can be made **awaitable** by defining `__await__()`.\n",
        "    \n",
        "\n",
        "### **Example**"
      ],
      "metadata": {
        "id": "ARoCqJP50Lpz"
      }
    },
    {
      "cell_type": "code",
      "source": [
        "class CustomAwaitable:\n",
        "    def __await__(self):\n",
        "        yield from asyncio.sleep(2).__await__()  # Delegate to asyncio\n",
        "        return \"Custom Awaitable Done\"\n",
        "\n",
        "async def main():\n",
        "    result = await CustomAwaitable()\n",
        "    print(result)\n",
        "\n",
        "asyncio.run(main())"
      ],
      "metadata": {
        "colab": {
          "base_uri": "https://localhost:8080/",
          "height": 33
        },
        "id": "_rEVgFL00PVz",
        "outputId": "87810efb-4b2c-4cf2-d874-34918c6044c4"
      },
      "execution_count": null,
      "outputs": [
        {
          "output_type": "display_data",
          "data": {
            "text/plain": [
              "Custom Awaitable Done\n"
            ],
            "text/html": [
              "<pre style=\"white-space:pre;overflow-x:auto;line-height:normal;font-family:Menlo,'DejaVu Sans Mono',consolas,'Courier New',monospace\">Custom Awaitable Done\n",
              "</pre>\n"
            ]
          },
          "metadata": {}
        }
      ]
    },
    {
      "cell_type": "code",
      "source": [
        "import asyncio\n",
        "\n",
        "async def task1():\n",
        "       await asyncio.sleep(4)\n",
        "       print(\"\\tTask 1 done\")\n",
        "\n",
        "async def task2():\n",
        "       await asyncio.sleep(1)\n",
        "       print(\"\\tTask 2 done\")\n",
        "\n",
        "async def main():\n",
        "       t1 = asyncio.create_task(task1())\n",
        "       t2 = asyncio.create_task(task2())\n",
        "       print(\"Start main()...\")\n",
        "       await asyncio.gather(t1, t2)\n",
        "       print(\"End main()...\")\n",
        "\n",
        "asyncio.run(main())"
      ],
      "metadata": {
        "colab": {
          "base_uri": "https://localhost:8080/",
          "height": 82
        },
        "id": "Ppt91_oD5Tny",
        "outputId": "1eb0655b-4118-4d39-d5b5-08cbbb12bfb8"
      },
      "execution_count": null,
      "outputs": [
        {
          "output_type": "display_data",
          "data": {
            "text/plain": [
              "Start \u001b[1;35mmain\u001b[0m\u001b[1m(\u001b[0m\u001b[1m)\u001b[0m\u001b[33m...\u001b[0m\n"
            ],
            "text/html": [
              "<pre style=\"white-space:pre;overflow-x:auto;line-height:normal;font-family:Menlo,'DejaVu Sans Mono',consolas,'Courier New',monospace\">Start <span style=\"color: #800080; text-decoration-color: #800080; font-weight: bold\">main</span><span style=\"font-weight: bold\">()</span><span style=\"color: #808000; text-decoration-color: #808000\">...</span>\n",
              "</pre>\n"
            ]
          },
          "metadata": {}
        },
        {
          "output_type": "display_data",
          "data": {
            "text/plain": [
              "        Task \u001b[1;36m2\u001b[0m done\n"
            ],
            "text/html": [
              "<pre style=\"white-space:pre;overflow-x:auto;line-height:normal;font-family:Menlo,'DejaVu Sans Mono',consolas,'Courier New',monospace\">        Task <span style=\"color: #008080; text-decoration-color: #008080; font-weight: bold\">2</span> done\n",
              "</pre>\n"
            ]
          },
          "metadata": {}
        },
        {
          "output_type": "display_data",
          "data": {
            "text/plain": [
              "        Task \u001b[1;36m1\u001b[0m done\n"
            ],
            "text/html": [
              "<pre style=\"white-space:pre;overflow-x:auto;line-height:normal;font-family:Menlo,'DejaVu Sans Mono',consolas,'Courier New',monospace\">        Task <span style=\"color: #008080; text-decoration-color: #008080; font-weight: bold\">1</span> done\n",
              "</pre>\n"
            ]
          },
          "metadata": {}
        },
        {
          "output_type": "display_data",
          "data": {
            "text/plain": [
              "End \u001b[1;35mmain\u001b[0m\u001b[1m(\u001b[0m\u001b[1m)\u001b[0m\u001b[33m...\u001b[0m\n"
            ],
            "text/html": [
              "<pre style=\"white-space:pre;overflow-x:auto;line-height:normal;font-family:Menlo,'DejaVu Sans Mono',consolas,'Courier New',monospace\">End <span style=\"color: #800080; text-decoration-color: #800080; font-weight: bold\">main</span><span style=\"font-weight: bold\">()</span><span style=\"color: #808000; text-decoration-color: #808000\">...</span>\n",
              "</pre>\n"
            ]
          },
          "metadata": {}
        }
      ]
    },
    {
      "cell_type": "markdown",
      "source": [
        "### Implications\n",
        "\n",
        "- **`Efficiency`**: Ideal for I/O-bound tasks, allowing efficient handling of multiple operations without blocking.\n",
        "\n",
        "- **`Single-Threaded`**: Not suitable for CPU-bound tasks, which may require multiprocessing.\n",
        "- **`Correct Usage`**: Ensure all coroutines are awaited properly to avoid returning coroutine objects instead of results.\n",
        "\n",
        "### Conclusion\n",
        "\n",
        "`asyncio` and `await` work together to enable asynchronous programming in Python, allowing for efficient handling of concurrent operations, particularly in I/O-bound scenarios. Understanding their roles and correct usage is key to writing effective async code."
      ],
      "metadata": {
        "id": "gvIpYYQf5lKa"
      }
    },
    {
      "cell_type": "markdown",
      "source": [
        "\n",
        "\n",
        "---\n",
        "\n",
        "\n",
        "# **Futures**\n",
        "\n",
        "\n",
        "\n",
        "---\n",
        "\n",
        "\n",
        "\n",
        "In Python's `asyncio` library, **Futures** are a fundamental concept that represents the result of an asynchronous operation that may not have completed yet. Futures are closely related to coroutines and tasks, but they serve a specific purpose in handling asynchronous operations.\n",
        "\n",
        "### **What Are Futures**?\n",
        "\n",
        "A **Future** is an object that represents the result of a task that is not yet complete. It acts as a placeholder for the result, which will be available at some point in the future. Once the task completes, the Future is resolved, and its result (or exception, if the task failed) can be retrieved.\n",
        "\n",
        "### **Key Characteristics of Futures**\n",
        "\n",
        "1. **`Asynchronous Result`**:\n",
        "   - A Future is created when an asynchronous operation is initiated, but the result of that operation is not immediately available.\n",
        "   - The Future keeps track of the result and notifies any waiting code once the result is available.\n",
        "\n",
        "2. **`States of a Future`**:\n",
        "   - **`Pending`**: The initial state where the operation has not yet started or is still in progress.\n",
        "   - **`Done`**: The operation has completed, and the result is available.\n",
        "   - **`Cancelled`**: The operation was cancelled before it could complete.\n",
        "\n",
        "3. **`Awaitable`**:\n",
        "   - Futures are awaitable objects, meaning they can be used with the `await` keyword in async functions.\n",
        "\n",
        "4. **`One-Time Use`**:\n",
        "   - A Future can only be resolved once. Once it is done, it cannot be reset or reused.\n",
        "\n",
        "### **Relationship Between Futures, Coroutines, and Tasks**\n",
        "\n",
        "- **`Coroutines`**: Defined using `async def`, coroutines are functions that can be paused and resumed. They are not directly executable and must be scheduled as tasks.\n",
        "  \n",
        "- **`Tasks`**: A Task wraps a coroutine and is responsible for running it. When you create a Task, it automatically schedules the coroutine to run on the event loop. A Task returns a Future that represents the result of the coroutine.\n",
        "\n",
        "- **`Futures`**: A Future is the result of a Task. When you await a Task, you are effectively awaiting its Future.\n",
        "\n",
        "### **Example of Using Futures**\n",
        "\n",
        "Here’s an example that demonstrates how Futures work:"
      ],
      "metadata": {
        "id": "rJz1gZrI6UKe"
      }
    },
    {
      "cell_type": "code",
      "source": [
        "import asyncio\n",
        "\n",
        "async def my_coroutine():\n",
        "    await asyncio.sleep(1)\n",
        "    print(\"\\tTask done...\")\n",
        "    return \"My Coroutine completed\"\n",
        "\n",
        "async def main():\n",
        "    # Create a Task (which returns a Future)\n",
        "    print(\"Starting Coroutine...\")\n",
        "    future = asyncio.create_task(my_coroutine())\n",
        "\n",
        "    print(\"Going to Maldives on a 2 day vacation\")\n",
        "    await asyncio.sleep(10)\n",
        "    print(\"Come back from vacation\")\n",
        "\n",
        "\n",
        "    # Await the Future\n",
        "    result = await future\n",
        "    print(\"future = \",result)\n",
        "\n",
        "asyncio.run(main())\n",
        "#await asyncio.create_task(main())"
      ],
      "metadata": {
        "colab": {
          "base_uri": "https://localhost:8080/",
          "height": 99
        },
        "id": "wIKt1fXK8qK8",
        "outputId": "f7f677e8-9f47-496d-e667-bfb473d9c66d"
      },
      "execution_count": null,
      "outputs": [
        {
          "output_type": "display_data",
          "data": {
            "text/plain": [
              "Starting Coroutine\u001b[33m...\u001b[0m\n"
            ],
            "text/html": [
              "<pre style=\"white-space:pre;overflow-x:auto;line-height:normal;font-family:Menlo,'DejaVu Sans Mono',consolas,'Courier New',monospace\">Starting Coroutine<span style=\"color: #808000; text-decoration-color: #808000\">...</span>\n",
              "</pre>\n"
            ]
          },
          "metadata": {}
        },
        {
          "output_type": "display_data",
          "data": {
            "text/plain": [
              "Going to Maldives on a \u001b[1;36m2\u001b[0m day vacation\n"
            ],
            "text/html": [
              "<pre style=\"white-space:pre;overflow-x:auto;line-height:normal;font-family:Menlo,'DejaVu Sans Mono',consolas,'Courier New',monospace\">Going to Maldives on a <span style=\"color: #008080; text-decoration-color: #008080; font-weight: bold\">2</span> day vacation\n",
              "</pre>\n"
            ]
          },
          "metadata": {}
        },
        {
          "output_type": "display_data",
          "data": {
            "text/plain": [
              "        Task done\u001b[33m...\u001b[0m\n"
            ],
            "text/html": [
              "<pre style=\"white-space:pre;overflow-x:auto;line-height:normal;font-family:Menlo,'DejaVu Sans Mono',consolas,'Courier New',monospace\">        Task done<span style=\"color: #808000; text-decoration-color: #808000\">...</span>\n",
              "</pre>\n"
            ]
          },
          "metadata": {}
        },
        {
          "output_type": "display_data",
          "data": {
            "text/plain": [
              "Come back from vacation\n"
            ],
            "text/html": [
              "<pre style=\"white-space:pre;overflow-x:auto;line-height:normal;font-family:Menlo,'DejaVu Sans Mono',consolas,'Courier New',monospace\">Come back from vacation\n",
              "</pre>\n"
            ]
          },
          "metadata": {}
        },
        {
          "output_type": "display_data",
          "data": {
            "text/plain": [
              "future =  My Coroutine completed\n"
            ],
            "text/html": [
              "<pre style=\"white-space:pre;overflow-x:auto;line-height:normal;font-family:Menlo,'DejaVu Sans Mono',consolas,'Courier New',monospace\">future =  My Coroutine completed\n",
              "</pre>\n"
            ]
          },
          "metadata": {}
        }
      ]
    },
    {
      "cell_type": "markdown",
      "source": [
        "### **States of a `Future` in Python (`asyncio.Future`)**\n",
        "\n",
        "A `Future` represents a **placeholder for a result** that is **not yet available** in asynchronous programming. It can be in the following states:\n",
        "\n",
        "1️⃣ **`Pending`** – The initial state when the operation **has not started** or is **still in progress**.  \n",
        "2️⃣ **`Done`** – The operation has **completed successfully**, and the result is available.  \n",
        "3️⃣ **`Cancelled`** – The operation was **cancelled before completion**.\n",
        "\n",
        "----------\n",
        "\n",
        "### **Example: Understanding Future States in `asyncio`**"
      ],
      "metadata": {
        "id": "qeKaedQZwHfT"
      }
    },
    {
      "cell_type": "code",
      "source": [
        "import asyncio\n",
        "\n",
        "async def example_future():\n",
        "    future = asyncio.Future()  # Create a Future object\n",
        "    print(f\"Initial state: {future.done()}\")  # False (Pending)\n",
        "\n",
        "    # Simulate computation\n",
        "    await asyncio.sleep(2)\n",
        "\n",
        "    future.set_result(\"Task Completed\")  # Mark future as done\n",
        "    print(f\"Final state: {future.done()}\")  # True (Done)\n",
        "    print(f\"Result: {future.result()}\")  # \"Task Completed\"\n",
        "\n",
        "asyncio.run(example_future()) # Error, will see it indepth in next topic\n",
        "\n",
        "#await example_future() # Directly await the coroutine instead of calling asyncio.run"
      ],
      "metadata": {
        "colab": {
          "base_uri": "https://localhost:8080/",
          "height": 66
        },
        "id": "t_cQDUEy3cBo",
        "outputId": "6d465289-7d33-43a4-8c52-7b8b018c334f"
      },
      "execution_count": null,
      "outputs": [
        {
          "output_type": "display_data",
          "data": {
            "text/plain": [
              "Initial state: \u001b[3;91mFalse\u001b[0m\n"
            ],
            "text/html": [
              "<pre style=\"white-space:pre;overflow-x:auto;line-height:normal;font-family:Menlo,'DejaVu Sans Mono',consolas,'Courier New',monospace\">Initial state: <span style=\"color: #ff0000; text-decoration-color: #ff0000; font-style: italic\">False</span>\n",
              "</pre>\n"
            ]
          },
          "metadata": {}
        },
        {
          "output_type": "display_data",
          "data": {
            "text/plain": [
              "Final state: \u001b[3;92mTrue\u001b[0m\n"
            ],
            "text/html": [
              "<pre style=\"white-space:pre;overflow-x:auto;line-height:normal;font-family:Menlo,'DejaVu Sans Mono',consolas,'Courier New',monospace\">Final state: <span style=\"color: #00ff00; text-decoration-color: #00ff00; font-style: italic\">True</span>\n",
              "</pre>\n"
            ]
          },
          "metadata": {}
        },
        {
          "output_type": "display_data",
          "data": {
            "text/plain": [
              "Result: Task Completed\n"
            ],
            "text/html": [
              "<pre style=\"white-space:pre;overflow-x:auto;line-height:normal;font-family:Menlo,'DejaVu Sans Mono',consolas,'Courier New',monospace\">Result: Task Completed\n",
              "</pre>\n"
            ]
          },
          "metadata": {}
        }
      ]
    },
    {
      "cell_type": "markdown",
      "source": [
        "✅ **Initially in `Pending` state**, then **transitions to `Done`** once the result is set."
      ],
      "metadata": {
        "id": "AbRztlv337qd"
      }
    },
    {
      "cell_type": "markdown",
      "source": [
        "### **Cancelling a Future**\n",
        "\n",
        "A `Future` can be **cancelled** before completion"
      ],
      "metadata": {
        "id": "2rwMW_R64CI8"
      }
    },
    {
      "cell_type": "code",
      "source": [
        "import asyncio\n",
        "\n",
        "async def example_cancellation():\n",
        "    future = asyncio.Future()\n",
        "\n",
        "    future.cancel()  # Cancelling the future\n",
        "    print(f\"Cancelled: {future.cancelled()}\")  # True\n",
        "\n",
        "asyncio.run(example_cancellation())\n",
        "#await example_cancellation() # Directly await the coroutine instead of calling asyncio.run\n"
      ],
      "metadata": {
        "colab": {
          "base_uri": "https://localhost:8080/",
          "height": 33
        },
        "id": "mCwZPvC63b--",
        "outputId": "d8981f9d-e3ef-4dcd-8980-9f375ff0743e"
      },
      "execution_count": null,
      "outputs": [
        {
          "output_type": "display_data",
          "data": {
            "text/plain": [
              "Cancelled: \u001b[3;92mTrue\u001b[0m\n"
            ],
            "text/html": [
              "<pre style=\"white-space:pre;overflow-x:auto;line-height:normal;font-family:Menlo,'DejaVu Sans Mono',consolas,'Courier New',monospace\">Cancelled: <span style=\"color: #00ff00; text-decoration-color: #00ff00; font-style: italic\">True</span>\n",
              "</pre>\n"
            ]
          },
          "metadata": {}
        }
      ]
    },
    {
      "cell_type": "code",
      "source": [
        "# prompt: examples of future methods\n",
        "\n",
        "async def example_future():\n",
        "    future = asyncio.Future()  # Create a Future object\n",
        "    print(f\"Initial state: {future.done()}\")  # False (Pending)\n",
        "\n",
        "    # Simulate computation\n",
        "    await asyncio.sleep(2)\n",
        "\n",
        "    future.set_result(\"Task Completed\")  # Mark future as done\n",
        "    print(f\"Final state: {future.done()}\")  # True (Done)\n",
        "    print(f\"Result: {future.result()}\")  # \"Task Completed\"\n",
        "\n",
        "asyncio.run(example_future()) # Error, will see it indepth in next topic\n",
        "\n",
        "#await example_future() # Directly await the coroutine instead of calling asyncio.run\n"
      ],
      "metadata": {
        "colab": {
          "base_uri": "https://localhost:8080/",
          "height": 66
        },
        "id": "3yiWPJFH3b8V",
        "outputId": "7cee7728-776c-4180-e44b-217ecf409ed8"
      },
      "execution_count": null,
      "outputs": [
        {
          "output_type": "display_data",
          "data": {
            "text/plain": [
              "Initial state: \u001b[3;91mFalse\u001b[0m\n"
            ],
            "text/html": [
              "<pre style=\"white-space:pre;overflow-x:auto;line-height:normal;font-family:Menlo,'DejaVu Sans Mono',consolas,'Courier New',monospace\">Initial state: <span style=\"color: #ff0000; text-decoration-color: #ff0000; font-style: italic\">False</span>\n",
              "</pre>\n"
            ]
          },
          "metadata": {}
        },
        {
          "output_type": "display_data",
          "data": {
            "text/plain": [
              "Final state: \u001b[3;92mTrue\u001b[0m\n"
            ],
            "text/html": [
              "<pre style=\"white-space:pre;overflow-x:auto;line-height:normal;font-family:Menlo,'DejaVu Sans Mono',consolas,'Courier New',monospace\">Final state: <span style=\"color: #00ff00; text-decoration-color: #00ff00; font-style: italic\">True</span>\n",
              "</pre>\n"
            ]
          },
          "metadata": {}
        },
        {
          "output_type": "display_data",
          "data": {
            "text/plain": [
              "Result: Task Completed\n"
            ],
            "text/html": [
              "<pre style=\"white-space:pre;overflow-x:auto;line-height:normal;font-family:Menlo,'DejaVu Sans Mono',consolas,'Courier New',monospace\">Result: Task Completed\n",
              "</pre>\n"
            ]
          },
          "metadata": {}
        }
      ]
    },
    {
      "cell_type": "markdown",
      "source": [
        "\n",
        "\n",
        "---\n",
        "\n",
        "\n",
        "# What is an Event Loop?\n",
        "\n",
        "An **event loop** is a core concept in asynchronous programming. It is a programming construct that waits for and dispatches events or messages in a program. The event loop is responsible for managing and executing asynchronous tasks, handling I/O operations, and coordinating the execution of coroutines (asynchronous functions).\n",
        "\n",
        "In simpler terms, the event loop is the \"engine\" that drives asynchronous execution. It continuously checks for tasks that are ready to run, executes them, and waits for new tasks to be added."
      ],
      "metadata": {
        "id": "vzi2KheK1OT_"
      }
    },
    {
      "cell_type": "code",
      "source": [
        "loop = asyncio.get_event_loop()\n",
        "task = loop.create_task(example_future())\n",
        "task"
      ],
      "metadata": {
        "colab": {
          "base_uri": "https://localhost:8080/"
        },
        "id": "Ud_NONXs00To",
        "outputId": "100fe0d5-5cb5-40e4-ba5d-bfa49c0a3c29"
      },
      "execution_count": null,
      "outputs": [
        {
          "output_type": "execute_result",
          "data": {
            "text/plain": [
              "<Task pending name='Task-23' coro=<example_future() running at <ipython-input-16-8cc165c26d0d>:3>>"
            ]
          },
          "metadata": {},
          "execution_count": 17
        }
      ]
    },
    {
      "cell_type": "code",
      "source": [
        "task"
      ],
      "metadata": {
        "colab": {
          "base_uri": "https://localhost:8080/"
        },
        "id": "8GpxDcFN1CY3",
        "outputId": "076fa44a-09f2-40be-b816-bf0cb108ee5c"
      },
      "execution_count": null,
      "outputs": [
        {
          "output_type": "execute_result",
          "data": {
            "text/plain": [
              "<Task pending name='Task-23' coro=<example_future() running at <ipython-input-16-8cc165c26d0d>:8> wait_for=<Future pending cb=[Task.__wakeup()]>>"
            ]
          },
          "metadata": {},
          "execution_count": 18
        }
      ]
    },
    {
      "cell_type": "markdown",
      "source": [
        "### How Does an Event Loop Work?\n",
        "\n",
        "1.  **Task Queue**: The event loop maintains a queue of tasks (coroutines, callbacks, etc.) that need to be executed.\n",
        "2.  **Event Handling**: It listens for events (e.g., I/O operations, timers, or external signals) and schedules the corresponding tasks to run.\n",
        "3.  **Execution**: When a task is ready to run (e.g., an I/O operation completes or a timer expires), the event loop executes it.\n",
        "4.  **Non-blocking**: While one task is waiting (e.g., for I/O), the event loop can switch to other tasks, ensuring that the program remains responsive."
      ],
      "metadata": {
        "id": "-kLLtn4H1icu"
      }
    },
    {
      "cell_type": "markdown",
      "source": [
        "Did you know? [Cpython](https://www.geeksforgeeks.org/python-vs-cpython/) in the most popular python!"
      ],
      "metadata": {
        "id": "pBzSpJl4fVjD"
      }
    },
    {
      "cell_type": "markdown",
      "source": [
        "### **Context Variables (`contextvars`)**\n",
        "\n",
        "`contextvars` is a Python module that provides a way to manage thread-local-like data in asynchronous code. It's designed to solve a specific problem that arises in concurrent programming: how to correctly manage state when you have code that switches execution contexts (as `asyncio` does)."
      ],
      "metadata": {
        "id": "9Xne4yWemUGy"
      }
    },
    {
      "cell_type": "code",
      "source": [
        "import contextvars\n",
        "\n",
        "var = contextvars.ContextVar('var')\n",
        "var.set('spam')\n",
        "print(var.get())  # 'spam'\n",
        "\n",
        "ctx = contextvars.copy_context()\n",
        "\n",
        "def main():\n",
        "    # 'var' was set to 'spam' before\n",
        "    # calling 'copy_context()' and 'ctx.run(main)', so:\n",
        "    print(var.get())  # 'spam'\n",
        "    print(ctx[var])  # 'spam'\n",
        "\n",
        "    var.set('ham')\n",
        "\n",
        "    # Now, after setting 'var' to 'ham':\n",
        "    print(var.get())  # 'ham'\n",
        "    print(ctx[var])  # 'ham'\n",
        "\n",
        "# Any changes that the 'main' function makes to 'var'\n",
        "# will be contained in 'ctx'.\n",
        "ctx.run(main)\n",
        "\n",
        "# The 'main()' function was run in the 'ctx' context,\n",
        "# so changes to 'var' are contained in it:\n",
        "print(ctx[var])  # 'ham'\n",
        "\n",
        "# However, outside of 'ctx', 'var' is still set to 'spam':\n",
        "print(var.get())  # 'spam'"
      ],
      "metadata": {
        "colab": {
          "base_uri": "https://localhost:8080/",
          "height": 132
        },
        "id": "ENCygSJmmQHw",
        "outputId": "4be09a0b-2907-4a3c-dc09-f3039c4d8c93"
      },
      "execution_count": null,
      "outputs": [
        {
          "output_type": "display_data",
          "data": {
            "text/plain": [
              "spam\n"
            ],
            "text/html": [
              "<pre style=\"white-space:pre;overflow-x:auto;line-height:normal;font-family:Menlo,'DejaVu Sans Mono',consolas,'Courier New',monospace\">spam\n",
              "</pre>\n"
            ]
          },
          "metadata": {}
        },
        {
          "output_type": "display_data",
          "data": {
            "text/plain": [
              "spam\n"
            ],
            "text/html": [
              "<pre style=\"white-space:pre;overflow-x:auto;line-height:normal;font-family:Menlo,'DejaVu Sans Mono',consolas,'Courier New',monospace\">spam\n",
              "</pre>\n"
            ]
          },
          "metadata": {}
        },
        {
          "output_type": "display_data",
          "data": {
            "text/plain": [
              "spam\n"
            ],
            "text/html": [
              "<pre style=\"white-space:pre;overflow-x:auto;line-height:normal;font-family:Menlo,'DejaVu Sans Mono',consolas,'Courier New',monospace\">spam\n",
              "</pre>\n"
            ]
          },
          "metadata": {}
        },
        {
          "output_type": "display_data",
          "data": {
            "text/plain": [
              "ham\n"
            ],
            "text/html": [
              "<pre style=\"white-space:pre;overflow-x:auto;line-height:normal;font-family:Menlo,'DejaVu Sans Mono',consolas,'Courier New',monospace\">ham\n",
              "</pre>\n"
            ]
          },
          "metadata": {}
        },
        {
          "output_type": "display_data",
          "data": {
            "text/plain": [
              "ham\n"
            ],
            "text/html": [
              "<pre style=\"white-space:pre;overflow-x:auto;line-height:normal;font-family:Menlo,'DejaVu Sans Mono',consolas,'Courier New',monospace\">ham\n",
              "</pre>\n"
            ]
          },
          "metadata": {}
        },
        {
          "output_type": "display_data",
          "data": {
            "text/plain": [
              "ham\n"
            ],
            "text/html": [
              "<pre style=\"white-space:pre;overflow-x:auto;line-height:normal;font-family:Menlo,'DejaVu Sans Mono',consolas,'Courier New',monospace\">ham\n",
              "</pre>\n"
            ]
          },
          "metadata": {}
        },
        {
          "output_type": "display_data",
          "data": {
            "text/plain": [
              "spam\n"
            ],
            "text/html": [
              "<pre style=\"white-space:pre;overflow-x:auto;line-height:normal;font-family:Menlo,'DejaVu Sans Mono',consolas,'Courier New',monospace\">spam\n",
              "</pre>\n"
            ]
          },
          "metadata": {}
        }
      ]
    },
    {
      "cell_type": "markdown",
      "source": [
        "* **The Problem:**\n",
        "    \n",
        "    * In traditional threaded programming, you can use `threading.local()` to store data that is local to a specific thread. This allows you to avoid accidentally sharing data between threads.\n",
        "    * However, in `asyncio`, execution switches between different coroutines within the same thread. This means that `threading.local()` doesn't work as expected because the \"current thread\" doesn't really change in the same way.\n",
        "    * You need a way to have variables that are local to a *context* of execution, where a context might be the execution of a specific coroutine or a specific task.\n",
        "* **How `contextvars` Solves It:**\n",
        "    \n",
        "    * `contextvars` allows you to create `ContextVar` objects. These are like thread-local variables, but they are local to a context.\n",
        "    * Each `asyncio` task has its own context. When a coroutine runs within a task, it can access and modify `ContextVar` values, and these values will be isolated from other tasks.\n",
        "    * This is crucial for managing state that should not be shared between concurrent operations, even though they run in the same thread.\n",
        "* **Key Components:**\n",
        "    \n",
        "    * `contextvars.ContextVar`:\n",
        "        \n",
        "        * Creates a context variable. You give it a name.\n",
        "        * Methods:\n",
        "            * `get()`: Gets the current value of the variable in the current context.\n",
        "            * `set(value)`: Sets the value of the variable in the current context.\n",
        "    * `contextvars.Context`:\n",
        "        \n",
        "        * Represents a context. Each task has its own context.\n",
        "        * Methods:\n",
        "            * `run(callable, *args, **kwargs)`: Executes a callable within the context. Any changes to context variables are isolated to this `run()`.\n",
        "            * `copy_context()`: Creates a copy of the current context.\n",
        "* **Example:**"
      ],
      "metadata": {
        "id": "9A1M1Gy2kJsh"
      }
    },
    {
      "cell_type": "code",
      "source": [
        "import asyncio\n",
        "import contextvars\n",
        "\n",
        "my_var = contextvars.ContextVar(\"my_var\")\n",
        "\n",
        "async def task_one():\n",
        "    my_var.set(\"Value from task_one\")\n",
        "    print(f\"Task One: {my_var.get()}\")\n",
        "    await asyncio.sleep(1)\n",
        "    print(f\"Task One (after sleep): {my_var.get()}\")  # Still task_one's value\n",
        "\n",
        "async def task_two():\n",
        "    my_var.set(\"Value from task_two\")\n",
        "    print(f\"Task Two: {my_var.get()}\")\n",
        "\n",
        "async def main():\n",
        "    task1 = asyncio.create_task(task_one())\n",
        "    task2 = asyncio.create_task(task_two())\n",
        "    await asyncio.gather(task1, task2)\n",
        "\n",
        "asyncio.run(main())"
      ],
      "metadata": {
        "colab": {
          "base_uri": "https://localhost:8080/",
          "height": 66
        },
        "id": "ExnYG2h1kSeq",
        "outputId": "46770a00-f0b6-442c-dcae-e3b415b3c03e"
      },
      "execution_count": null,
      "outputs": [
        {
          "output_type": "display_data",
          "data": {
            "text/plain": [
              "Task One: Value from task_one\n"
            ],
            "text/html": [
              "<pre style=\"white-space:pre;overflow-x:auto;line-height:normal;font-family:Menlo,'DejaVu Sans Mono',consolas,'Courier New',monospace\">Task One: Value from task_one\n",
              "</pre>\n"
            ]
          },
          "metadata": {}
        },
        {
          "output_type": "display_data",
          "data": {
            "text/plain": [
              "Task Two: Value from task_two\n"
            ],
            "text/html": [
              "<pre style=\"white-space:pre;overflow-x:auto;line-height:normal;font-family:Menlo,'DejaVu Sans Mono',consolas,'Courier New',monospace\">Task Two: Value from task_two\n",
              "</pre>\n"
            ]
          },
          "metadata": {}
        },
        {
          "output_type": "display_data",
          "data": {
            "text/plain": [
              "Task One \u001b[1m(\u001b[0mafter sleep\u001b[1m)\u001b[0m: Value from task_one\n"
            ],
            "text/html": [
              "<pre style=\"white-space:pre;overflow-x:auto;line-height:normal;font-family:Menlo,'DejaVu Sans Mono',consolas,'Courier New',monospace\">Task One <span style=\"font-weight: bold\">(</span>after sleep<span style=\"font-weight: bold\">)</span>: Value from task_one\n",
              "</pre>\n"
            ]
          },
          "metadata": {}
        }
      ]
    },
    {
      "cell_type": "markdown",
      "source": [
        "\n",
        "In this example, even though `task_one` and `task_two` run concurrently, they each have their own isolated value for `my_var`.\n",
        "\n",
        "* **Why are `contextvars` important for AI agents?**\n",
        "    \n",
        "    * AI agents may need to manage state that is specific to a particular request, user interaction, or task.\n",
        "    * For example:\n",
        "        * Tracking user authentication information.\n",
        "        * Storing request-specific data (e.g., a query ID).\n",
        "        * Managing conversational state within a dialogue.\n",
        "    * When an agent handles multiple concurrent requests or interactions, `contextvars` ensures that this state is kept separate and doesn't leak between different operations.\n",
        "    * This is crucial for correctness, security, and maintainability."
      ],
      "metadata": {
        "id": "uI0Gv5J5kmd2"
      }
    },
    {
      "cell_type": "markdown",
      "source": [
        "The value of `contextvars` becomes apparent specifically when multiple asynchronous tasks are running concurrently and you need to manage state that is local to each of those tasks.\n",
        "\n",
        "In a scenario where you have a single task running sequentially, a regular variable would often suffice for managing state within that task.\n",
        "\n",
        "**The Value During Concurrent Execution:**\n",
        "\n",
        "The power of `contextvars` shines when you have concurrent tasks because:\n",
        "\n",
        "1.  **Isolation:** Each concurrent task (or more precisely, the context in which it runs) gets its own independent value for a `ContextVar`. When one task sets the value of a `ContextVar`, it doesn't affect the value of that same `ContextVar` in other concurrently running tasks.\n",
        "\n",
        "2.  **Runtime State Management Across Context Switches:** In `asyncio`, a single thread might rapidly switch between different coroutines (tasks) that are in progress. `contextvars` ensures that when a coroutine resumes, it sees the value of the context variable that was in effect when it last yielded, even if other coroutines have run in the meantime and modified the same `ContextVar` in their own contexts.\n",
        "\n",
        "**Analogy:**\n",
        "\n",
        "Think of it like having separate local storage for each \"worker\" (asyncio task) in a busy workshop (your single thread). Each worker can put items in their local storage, and those items are not mixed up with what other workers have in their own storage.\n",
        "\n",
        "**In above example:** Without `contextvars`, if you just used a regular global or local variable, the interleaving of `task_one` and `task_two` could lead to one task overwriting the state of the other in unexpected ways. `contextvars` prevents this. Each task operates within its own context where `my_var` has the value it set.\n",
        "\n",
        "**So, to directly answer:**\n",
        "\n",
        "Yes, `contextvars` has significant value when multiple tasks run concurrently. It's specifically designed for managing runtime state in such scenarios, ensuring isolation and correct context switching. For purely sequential code within a single coroutine, its benefits are less pronounced compared to regular variables.\n"
      ],
      "metadata": {
        "id": "mtv08tYpk1QU"
      }
    },
    {
      "cell_type": "code",
      "source": [
        "import asyncio\n",
        "import contextvars\n",
        "\n",
        "my_var = \"new_val\"\n",
        "\n",
        "async def task_one():\n",
        "    global my_var\n",
        "    my_var = \"Value from task_one\"\n",
        "    print(f\"Task One: {my_var}\")\n",
        "    await asyncio.sleep(9)\n",
        "    print(f\"Task One (after sleep): {my_var}\")  # Still task_one's value\n",
        "\n",
        "async def task_two():\n",
        "    global my_var\n",
        "    my_var = \"Value from task_two\"\n",
        "    print(f\"Task Two: {my_var}\")\n",
        "\n",
        "async def main():\n",
        "    task1 = asyncio.create_task(task_one())\n",
        "    task2 = asyncio.create_task(task_two())\n",
        "    await asyncio.gather(task1, task2)\n",
        "\n",
        "asyncio.run(main())"
      ],
      "metadata": {
        "colab": {
          "base_uri": "https://localhost:8080/",
          "height": 66
        },
        "id": "O5ivFUoFkn79",
        "outputId": "8d3d40d1-81bf-4f6f-d221-253d6df8efa5"
      },
      "execution_count": null,
      "outputs": [
        {
          "output_type": "display_data",
          "data": {
            "text/plain": [
              "Task One: Value from task_one\n"
            ],
            "text/html": [
              "<pre style=\"white-space:pre;overflow-x:auto;line-height:normal;font-family:Menlo,'DejaVu Sans Mono',consolas,'Courier New',monospace\">Task One: Value from task_one\n",
              "</pre>\n"
            ]
          },
          "metadata": {}
        },
        {
          "output_type": "display_data",
          "data": {
            "text/plain": [
              "Task Two: Value from task_two\n"
            ],
            "text/html": [
              "<pre style=\"white-space:pre;overflow-x:auto;line-height:normal;font-family:Menlo,'DejaVu Sans Mono',consolas,'Courier New',monospace\">Task Two: Value from task_two\n",
              "</pre>\n"
            ]
          },
          "metadata": {}
        },
        {
          "output_type": "display_data",
          "data": {
            "text/plain": [
              "Task One \u001b[1m(\u001b[0mafter sleep\u001b[1m)\u001b[0m: Value from task_two\n"
            ],
            "text/html": [
              "<pre style=\"white-space:pre;overflow-x:auto;line-height:normal;font-family:Menlo,'DejaVu Sans Mono',consolas,'Courier New',monospace\">Task One <span style=\"font-weight: bold\">(</span>after sleep<span style=\"font-weight: bold\">)</span>: Value from task_two\n",
              "</pre>\n"
            ]
          },
          "metadata": {}
        }
      ]
    },
    {
      "cell_type": "code",
      "source": [
        "import asyncio\n",
        "import sys\n",
        "\n",
        "async def get_date():\n",
        "    code = 'import datetime; print(datetime.datetime.now())'\n",
        "\n",
        "    # Create the subprocess; redirect the standard output\n",
        "    # into a pipe.\n",
        "    proc = await asyncio.create_subprocess_exec(\n",
        "        sys.executable, '-c', code,\n",
        "        stdout=asyncio.subprocess.PIPE)\n",
        "\n",
        "    # Read one line of output.\n",
        "    data = await proc.stdout.readline()\n",
        "    line = data.decode('ascii').rstrip()\n",
        "\n",
        "    # Wait for the subprocess exit.\n",
        "    await proc.wait()\n",
        "    return line\n",
        "\n",
        "date = asyncio.run(get_date())\n",
        "print(f\"Current date: {date}\")"
      ],
      "metadata": {
        "colab": {
          "base_uri": "https://localhost:8080/",
          "height": 33
        },
        "id": "tU5BOBL4ltBe",
        "outputId": "f7bb4db9-6a7a-4181-92ef-03132a3a8aad"
      },
      "execution_count": null,
      "outputs": [
        {
          "output_type": "display_data",
          "data": {
            "text/plain": [
              "Current date: \u001b[1;36m2025\u001b[0m-\u001b[1;36m05\u001b[0m-\u001b[1;36m26\u001b[0m \u001b[1;92m21:55:55\u001b[0m.\u001b[1;36m123521\u001b[0m\n"
            ],
            "text/html": [
              "<pre style=\"white-space:pre;overflow-x:auto;line-height:normal;font-family:Menlo,'DejaVu Sans Mono',consolas,'Courier New',monospace\">Current date: <span style=\"color: #008080; text-decoration-color: #008080; font-weight: bold\">2025</span>-<span style=\"color: #008080; text-decoration-color: #008080; font-weight: bold\">05</span>-<span style=\"color: #008080; text-decoration-color: #008080; font-weight: bold\">26</span> <span style=\"color: #00ff00; text-decoration-color: #00ff00; font-weight: bold\">21:55:55</span>.<span style=\"color: #008080; text-decoration-color: #008080; font-weight: bold\">123521</span>\n",
              "</pre>\n"
            ]
          },
          "metadata": {}
        }
      ]
    },
    {
      "cell_type": "markdown",
      "source": [
        "\n"
      ],
      "metadata": {
        "id": "1YEPKTo3nAk7"
      }
    },
    {
      "cell_type": "code",
      "source": [],
      "metadata": {
        "id": "wE9X7pE4m_Xl"
      },
      "execution_count": null,
      "outputs": []
    }
  ],
  "metadata": {
    "colab": {
      "provenance": []
    },
    "kernelspec": {
      "display_name": "Python 3",
      "name": "python3"
    },
    "language_info": {
      "name": "python"
    }
  },
  "nbformat": 4,
  "nbformat_minor": 0
}